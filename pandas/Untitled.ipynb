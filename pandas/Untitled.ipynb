{
 "cells": [
  {
   "cell_type": "code",
   "execution_count": 1,
   "metadata": {},
   "outputs": [],
   "source": [
    "import pandas as pd"
   ]
  },
  {
   "cell_type": "code",
   "execution_count": 35,
   "metadata": {},
   "outputs": [],
   "source": [
    "df = pd.read_csv(\"head.csv\")"
   ]
  },
  {
   "cell_type": "code",
   "execution_count": 26,
   "metadata": {},
   "outputs": [
    {
     "data": {
      "text/html": [
       "<div>\n",
       "<style scoped>\n",
       "    .dataframe tbody tr th:only-of-type {\n",
       "        vertical-align: middle;\n",
       "    }\n",
       "\n",
       "    .dataframe tbody tr th {\n",
       "        vertical-align: top;\n",
       "    }\n",
       "\n",
       "    .dataframe thead th {\n",
       "        text-align: right;\n",
       "    }\n",
       "</style>\n",
       "<table border=\"1\" class=\"dataframe\">\n",
       "  <thead>\n",
       "    <tr style=\"text-align: right;\">\n",
       "      <th></th>\n",
       "      <th>レースID</th>\n",
       "      <th>年月日</th>\n",
       "      <th>レースNo</th>\n",
       "      <th>レース名</th>\n",
       "      <th>クラス</th>\n",
       "      <th>種別</th>\n",
       "      <th>距離</th>\n",
       "      <th>天候</th>\n",
       "      <th>状態</th>\n",
       "      <th>発走</th>\n",
       "      <th>競馬場</th>\n",
       "      <th>条件</th>\n",
       "      <th>Unnamed: 12</th>\n",
       "    </tr>\n",
       "  </thead>\n",
       "  <tbody>\n",
       "    <tr>\n",
       "      <th>0</th>\n",
       "      <td>199901010611</td>\n",
       "      <td>1999年8月22日</td>\n",
       "      <td>11</td>\n",
       "      <td>第35回札幌記念</td>\n",
       "      <td>G2</td>\n",
       "      <td>芝右</td>\n",
       "      <td>2000</td>\n",
       "      <td>曇</td>\n",
       "      <td>良</td>\n",
       "      <td>15:35</td>\n",
       "      <td>1回札幌6日目</td>\n",
       "      <td>4歳以上オープン(混)(特指)(別定)</td>\n",
       "      <td>NaN</td>\n",
       "    </tr>\n",
       "    <tr>\n",
       "      <th>1</th>\n",
       "      <td>199901020311</td>\n",
       "      <td>1999年9月11日</td>\n",
       "      <td>11</td>\n",
       "      <td>第4回エルムステークス</td>\n",
       "      <td>G3</td>\n",
       "      <td>ダ右</td>\n",
       "      <td>1700</td>\n",
       "      <td>曇</td>\n",
       "      <td>稍重</td>\n",
       "      <td>15:35</td>\n",
       "      <td>2回札幌3日目</td>\n",
       "      <td>4歳以上オープン(混)(指)(別定)</td>\n",
       "      <td>NaN</td>\n",
       "    </tr>\n",
       "    <tr>\n",
       "      <th>2</th>\n",
       "      <td>199901020711</td>\n",
       "      <td>1999年9月25日</td>\n",
       "      <td>11</td>\n",
       "      <td>第34回札幌3歳ステークス</td>\n",
       "      <td>G3</td>\n",
       "      <td>芝右</td>\n",
       "      <td>1800</td>\n",
       "      <td>晴</td>\n",
       "      <td>重</td>\n",
       "      <td>15:50</td>\n",
       "      <td>2回札幌7日目</td>\n",
       "      <td>3歳オープン(混)(特指)(馬齢)</td>\n",
       "      <td>NaN</td>\n",
       "    </tr>\n",
       "    <tr>\n",
       "      <th>3</th>\n",
       "      <td>199902010811</td>\n",
       "      <td>1999年7月4日</td>\n",
       "      <td>11</td>\n",
       "      <td>第35回函館記念</td>\n",
       "      <td>G3</td>\n",
       "      <td>芝右</td>\n",
       "      <td>2000</td>\n",
       "      <td>曇</td>\n",
       "      <td>良</td>\n",
       "      <td>15:35</td>\n",
       "      <td>1回函館8日目</td>\n",
       "      <td>4歳以上オープン(混)(特指)(ハンデ)</td>\n",
       "      <td>NaN</td>\n",
       "    </tr>\n",
       "    <tr>\n",
       "      <th>4</th>\n",
       "      <td>199902020411</td>\n",
       "      <td>1999年7月18日</td>\n",
       "      <td>11</td>\n",
       "      <td>第6回函館スプリントS</td>\n",
       "      <td>G3</td>\n",
       "      <td>芝右</td>\n",
       "      <td>1200</td>\n",
       "      <td>晴</td>\n",
       "      <td>良</td>\n",
       "      <td>15:35</td>\n",
       "      <td>2回函館4日目</td>\n",
       "      <td>4歳以上オープン(混)(特指)(別定)</td>\n",
       "      <td>NaN</td>\n",
       "    </tr>\n",
       "  </tbody>\n",
       "</table>\n",
       "</div>"
      ],
      "text/plain": [
       "          レースID         年月日  レースNo           レース名 クラス  種別    距離 天候  状態     発走  \\\n",
       "0  199901010611  1999年8月22日     11       第35回札幌記念  G2  芝右  2000  曇   良  15:35   \n",
       "1  199901020311  1999年9月11日     11    第4回エルムステークス  G3  ダ右  1700  曇  稍重  15:35   \n",
       "2  199901020711  1999年9月25日     11  第34回札幌3歳ステークス  G3  芝右  1800  晴   重  15:50   \n",
       "3  199902010811   1999年7月4日     11       第35回函館記念  G3  芝右  2000  曇   良  15:35   \n",
       "4  199902020411  1999年7月18日     11    第6回函館スプリントS  G3  芝右  1200  晴   良  15:35   \n",
       "\n",
       "       競馬場                    条件  Unnamed: 12  \n",
       "0  1回札幌6日目   4歳以上オープン(混)(特指)(別定)          NaN  \n",
       "1  2回札幌3日目    4歳以上オープン(混)(指)(別定)          NaN  \n",
       "2  2回札幌7日目     3歳オープン(混)(特指)(馬齢)          NaN  \n",
       "3  1回函館8日目  4歳以上オープン(混)(特指)(ハンデ)          NaN  \n",
       "4  2回函館4日目   4歳以上オープン(混)(特指)(別定)          NaN  "
      ]
     },
     "execution_count": 26,
     "metadata": {},
     "output_type": "execute_result"
    }
   ],
   "source": [
    "df.head()"
   ]
  },
  {
   "cell_type": "code",
   "execution_count": 27,
   "metadata": {},
   "outputs": [],
   "source": [
    "# 名前付きグループ カラム名\n",
    "df2 = df[\"競馬場\"].str.extract('(?P<回数>\\d*?)回(?P<場所>.*?)(?P<日程>\\d.*)日')"
   ]
  },
  {
   "cell_type": "code",
   "execution_count": 28,
   "metadata": {},
   "outputs": [
    {
     "data": {
      "text/html": [
       "<div>\n",
       "<style scoped>\n",
       "    .dataframe tbody tr th:only-of-type {\n",
       "        vertical-align: middle;\n",
       "    }\n",
       "\n",
       "    .dataframe tbody tr th {\n",
       "        vertical-align: top;\n",
       "    }\n",
       "\n",
       "    .dataframe thead th {\n",
       "        text-align: right;\n",
       "    }\n",
       "</style>\n",
       "<table border=\"1\" class=\"dataframe\">\n",
       "  <thead>\n",
       "    <tr style=\"text-align: right;\">\n",
       "      <th></th>\n",
       "      <th>回数</th>\n",
       "      <th>場所</th>\n",
       "      <th>日程</th>\n",
       "    </tr>\n",
       "  </thead>\n",
       "  <tbody>\n",
       "    <tr>\n",
       "      <th>0</th>\n",
       "      <td>1</td>\n",
       "      <td>札幌</td>\n",
       "      <td>6</td>\n",
       "    </tr>\n",
       "    <tr>\n",
       "      <th>1</th>\n",
       "      <td>2</td>\n",
       "      <td>札幌</td>\n",
       "      <td>3</td>\n",
       "    </tr>\n",
       "    <tr>\n",
       "      <th>2</th>\n",
       "      <td>2</td>\n",
       "      <td>札幌</td>\n",
       "      <td>7</td>\n",
       "    </tr>\n",
       "    <tr>\n",
       "      <th>3</th>\n",
       "      <td>1</td>\n",
       "      <td>函館</td>\n",
       "      <td>8</td>\n",
       "    </tr>\n",
       "    <tr>\n",
       "      <th>4</th>\n",
       "      <td>2</td>\n",
       "      <td>函館</td>\n",
       "      <td>4</td>\n",
       "    </tr>\n",
       "  </tbody>\n",
       "</table>\n",
       "</div>"
      ],
      "text/plain": [
       "  回数  場所 日程\n",
       "0  1  札幌  6\n",
       "1  2  札幌  3\n",
       "2  2  札幌  7\n",
       "3  1  函館  8\n",
       "4  2  函館  4"
      ]
     },
     "execution_count": 28,
     "metadata": {},
     "output_type": "execute_result"
    }
   ],
   "source": [
    "df2.head()"
   ]
  },
  {
   "cell_type": "code",
   "execution_count": 54,
   "metadata": {},
   "outputs": [
    {
     "name": "stdout",
     "output_type": "stream",
     "text": [
      "   x  y\n",
      "0  1  A\n",
      "1  2  B\n",
      "2  3  C\n",
      "3  4  D\n",
      "--------------------------------------------------\n",
      "0    2\n",
      "1    4\n",
      "2    6\n",
      "3    8\n",
      "Name: x, dtype: int64\n",
      "--------------------------------------------------\n",
      "0    2\n",
      "1    4\n",
      "2    6\n",
      "3    8\n",
      "Name: x, dtype: int64\n",
      "--------------------------------------------------\n",
      "   x   y\n",
      "0  2  AA\n",
      "1  4  BB\n",
      "2  6  CC\n",
      "3  8  DD\n",
      "--------------------------------------------------\n",
      "0     6\n",
      "1    12\n",
      "2    18\n",
      "3    24\n",
      "Name: x, dtype: int64\n",
      "--------------------------------------------------\n",
      "0     6\n",
      "1    12\n",
      "2    18\n",
      "3    24\n",
      "Name: x, dtype: int64\n"
     ]
    }
   ],
   "source": [
    "import pandas as pd\n",
    "\n",
    "df = pd.DataFrame({'x': [1, 2, 3, 4], 'y': ['A', 'B', 'C', 'D']})\n",
    "\n",
    "def f1(a, b):\n",
    "    return a * b\n",
    "\n",
    "def f2(a, b, c):\n",
    "    return a * b * c\n",
    "\n",
    "print(df)\n",
    "\n",
    "print(\"-\"*50)\n",
    "\n",
    "# 引数\n",
    "print(df.x.apply(f1, args=(2,)))\n",
    "\n",
    "print(\"-\"*50)\n",
    "\n",
    "# 引数 同じ意味\n",
    "print(df.x.apply(f1, b=2))\n",
    "\n",
    "print(\"-\"*50)\n",
    "\n",
    "# df全部の縦\n",
    "print(df.apply(f1, b=2))\n",
    "\n",
    "print(\"-\"*50)\n",
    "\n",
    "# 3つの引数\n",
    "print(df.x.apply(f2, args=(2, 3)))\n",
    "\n",
    "print(\"-\"*50)\n",
    "\n",
    "# 同じ意味\n",
    "print(df.x.apply(f2, b=2, c=3))\n",
    "\n",
    "\n"
   ]
  },
  {
   "cell_type": "code",
   "execution_count": 38,
   "metadata": {},
   "outputs": [
    {
     "data": {
      "text/html": [
       "<div>\n",
       "<style scoped>\n",
       "    .dataframe tbody tr th:only-of-type {\n",
       "        vertical-align: middle;\n",
       "    }\n",
       "\n",
       "    .dataframe tbody tr th {\n",
       "        vertical-align: top;\n",
       "    }\n",
       "\n",
       "    .dataframe thead th {\n",
       "        text-align: right;\n",
       "    }\n",
       "</style>\n",
       "<table border=\"1\" class=\"dataframe\">\n",
       "  <thead>\n",
       "    <tr style=\"text-align: right;\">\n",
       "      <th></th>\n",
       "      <th>x</th>\n",
       "      <th>y</th>\n",
       "    </tr>\n",
       "  </thead>\n",
       "  <tbody>\n",
       "    <tr>\n",
       "      <th>0</th>\n",
       "      <td>1</td>\n",
       "      <td>A</td>\n",
       "    </tr>\n",
       "    <tr>\n",
       "      <th>1</th>\n",
       "      <td>2</td>\n",
       "      <td>B</td>\n",
       "    </tr>\n",
       "    <tr>\n",
       "      <th>2</th>\n",
       "      <td>3</td>\n",
       "      <td>C</td>\n",
       "    </tr>\n",
       "    <tr>\n",
       "      <th>3</th>\n",
       "      <td>4</td>\n",
       "      <td>D</td>\n",
       "    </tr>\n",
       "  </tbody>\n",
       "</table>\n",
       "</div>"
      ],
      "text/plain": [
       "   x  y\n",
       "0  1  A\n",
       "1  2  B\n",
       "2  3  C\n",
       "3  4  D"
      ]
     },
     "execution_count": 38,
     "metadata": {},
     "output_type": "execute_result"
    }
   ],
   "source": [
    "df"
   ]
  },
  {
   "cell_type": "code",
   "execution_count": 39,
   "metadata": {},
   "outputs": [
    {
     "data": {
      "text/plain": [
       "0    2\n",
       "1    4\n",
       "2    6\n",
       "3    8\n",
       "Name: x, dtype: int64"
      ]
     },
     "execution_count": 39,
     "metadata": {},
     "output_type": "execute_result"
    }
   ],
   "source": [
    "df.x.apply(f1, args=(2,))"
   ]
  },
  {
   "cell_type": "code",
   "execution_count": 40,
   "metadata": {},
   "outputs": [
    {
     "data": {
      "text/plain": [
       "0    2\n",
       "1    4\n",
       "2    6\n",
       "3    8\n",
       "Name: x, dtype: int64"
      ]
     },
     "execution_count": 40,
     "metadata": {},
     "output_type": "execute_result"
    }
   ],
   "source": [
    "df.x.apply(f1, b=2)"
   ]
  },
  {
   "cell_type": "code",
   "execution_count": 41,
   "metadata": {},
   "outputs": [
    {
     "data": {
      "text/plain": [
       "0     6\n",
       "1    12\n",
       "2    18\n",
       "3    24\n",
       "Name: x, dtype: int64"
      ]
     },
     "execution_count": 41,
     "metadata": {},
     "output_type": "execute_result"
    }
   ],
   "source": [
    "df.x.apply(f2, args=(2, 3))"
   ]
  },
  {
   "cell_type": "code",
   "execution_count": 42,
   "metadata": {},
   "outputs": [
    {
     "data": {
      "text/plain": [
       "0     6\n",
       "1    12\n",
       "2    18\n",
       "3    24\n",
       "Name: x, dtype: int64"
      ]
     },
     "execution_count": 42,
     "metadata": {},
     "output_type": "execute_result"
    }
   ],
   "source": [
    "# または\n",
    "df.x.apply(f2, b=2, c=3)"
   ]
  },
  {
   "cell_type": "code",
   "execution_count": 43,
   "metadata": {},
   "outputs": [
    {
     "data": {
      "text/html": [
       "<div>\n",
       "<style scoped>\n",
       "    .dataframe tbody tr th:only-of-type {\n",
       "        vertical-align: middle;\n",
       "    }\n",
       "\n",
       "    .dataframe tbody tr th {\n",
       "        vertical-align: top;\n",
       "    }\n",
       "\n",
       "    .dataframe thead th {\n",
       "        text-align: right;\n",
       "    }\n",
       "</style>\n",
       "<table border=\"1\" class=\"dataframe\">\n",
       "  <thead>\n",
       "    <tr style=\"text-align: right;\">\n",
       "      <th></th>\n",
       "      <th>x</th>\n",
       "      <th>y</th>\n",
       "    </tr>\n",
       "  </thead>\n",
       "  <tbody>\n",
       "    <tr>\n",
       "      <th>0</th>\n",
       "      <td>2</td>\n",
       "      <td>AA</td>\n",
       "    </tr>\n",
       "    <tr>\n",
       "      <th>1</th>\n",
       "      <td>4</td>\n",
       "      <td>BB</td>\n",
       "    </tr>\n",
       "    <tr>\n",
       "      <th>2</th>\n",
       "      <td>6</td>\n",
       "      <td>CC</td>\n",
       "    </tr>\n",
       "    <tr>\n",
       "      <th>3</th>\n",
       "      <td>8</td>\n",
       "      <td>DD</td>\n",
       "    </tr>\n",
       "  </tbody>\n",
       "</table>\n",
       "</div>"
      ],
      "text/plain": [
       "   x   y\n",
       "0  2  AA\n",
       "1  4  BB\n",
       "2  6  CC\n",
       "3  8  DD"
      ]
     },
     "execution_count": 43,
     "metadata": {},
     "output_type": "execute_result"
    }
   ],
   "source": [
    "# 各列へ一度に適用する場合\n",
    "df.apply(f1, args=(2,))"
   ]
  },
  {
   "cell_type": "code",
   "execution_count": 44,
   "metadata": {},
   "outputs": [
    {
     "data": {
      "text/html": [
       "<div>\n",
       "<style scoped>\n",
       "    .dataframe tbody tr th:only-of-type {\n",
       "        vertical-align: middle;\n",
       "    }\n",
       "\n",
       "    .dataframe tbody tr th {\n",
       "        vertical-align: top;\n",
       "    }\n",
       "\n",
       "    .dataframe thead th {\n",
       "        text-align: right;\n",
       "    }\n",
       "</style>\n",
       "<table border=\"1\" class=\"dataframe\">\n",
       "  <thead>\n",
       "    <tr style=\"text-align: right;\">\n",
       "      <th></th>\n",
       "      <th>x</th>\n",
       "      <th>y</th>\n",
       "    </tr>\n",
       "  </thead>\n",
       "  <tbody>\n",
       "    <tr>\n",
       "      <th>0</th>\n",
       "      <td>2</td>\n",
       "      <td>AA</td>\n",
       "    </tr>\n",
       "    <tr>\n",
       "      <th>1</th>\n",
       "      <td>4</td>\n",
       "      <td>BB</td>\n",
       "    </tr>\n",
       "    <tr>\n",
       "      <th>2</th>\n",
       "      <td>6</td>\n",
       "      <td>CC</td>\n",
       "    </tr>\n",
       "    <tr>\n",
       "      <th>3</th>\n",
       "      <td>8</td>\n",
       "      <td>DD</td>\n",
       "    </tr>\n",
       "  </tbody>\n",
       "</table>\n",
       "</div>"
      ],
      "text/plain": [
       "   x   y\n",
       "0  2  AA\n",
       "1  4  BB\n",
       "2  6  CC\n",
       "3  8  DD"
      ]
     },
     "execution_count": 44,
     "metadata": {},
     "output_type": "execute_result"
    }
   ],
   "source": [
    "df.apply(f1, b=2)"
   ]
  },
  {
   "cell_type": "code",
   "execution_count": 60,
   "metadata": {},
   "outputs": [
    {
     "name": "stdin",
     "output_type": "stream",
     "text": [
      "お預かり： 10000\n",
      "金額： 5700\n"
     ]
    },
    {
     "name": "stdout",
     "output_type": "stream",
     "text": [
      "お釣り 4300\n",
      "金種\n",
      "5000: 0\n",
      "1000: 4\n",
      "500: 0\n",
      "100: 3\n",
      "50: 0\n",
      "10: 0\n",
      "5: 0\n",
      "1: 0\n"
     ]
    }
   ],
   "source": [
    "import sys\n",
    "\n",
    "insert_price = input(\"お預かり：\")\n",
    "if not insert_price.isdecimal():\n",
    "    print(\"整数を入力してください\")\n",
    "    sys.exit()\n",
    "\n",
    "product_price = input(\"金額：\")\n",
    "if not product_price.isdecimal():\n",
    "    print(\"整数を入力してください\")\n",
    "    sys.exit()\n",
    "\n",
    "change = int(insert_price) - int(product_price)\n",
    "\n",
    "if change < 0:\n",
    "    print(\"金額が不足しています\")\n",
    "    sys.exit()\n",
    "\n",
    "print(\"お釣り\", change)\n",
    "\n",
    "print(\"金種\")\n",
    "\n",
    "coin = [5000, 1000, 500, 100, 50, 10, 5, 1]\n",
    "for i in coin:\n",
    "    r, change = divmod(change, i)\n",
    "    print(f\"{i}: {r}\")"
   ]
  },
  {
   "cell_type": "code",
   "execution_count": 61,
   "metadata": {},
   "outputs": [
    {
     "data": {
      "text/plain": [
       "(3, 1)"
      ]
     },
     "execution_count": 61,
     "metadata": {},
     "output_type": "execute_result"
    }
   ],
   "source": [
    "divmod(10,3)"
   ]
  },
  {
   "cell_type": "code",
   "execution_count": null,
   "metadata": {},
   "outputs": [],
   "source": []
  }
 ],
 "metadata": {
  "kernelspec": {
   "display_name": "Python 3",
   "language": "python",
   "name": "python3"
  },
  "language_info": {
   "codemirror_mode": {
    "name": "ipython",
    "version": 3
   },
   "file_extension": ".py",
   "mimetype": "text/x-python",
   "name": "python",
   "nbconvert_exporter": "python",
   "pygments_lexer": "ipython3",
   "version": "3.8.5"
  }
 },
 "nbformat": 4,
 "nbformat_minor": 4
}
