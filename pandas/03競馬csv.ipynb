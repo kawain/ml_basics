{
 "cells": [
  {
   "cell_type": "code",
   "execution_count": 1,
   "metadata": {},
   "outputs": [],
   "source": [
    "import pandas as pd"
   ]
  },
  {
   "cell_type": "code",
   "execution_count": 2,
   "metadata": {},
   "outputs": [
    {
     "data": {
      "text/plain": [
       "(3756, 13)"
      ]
     },
     "execution_count": 2,
     "metadata": {},
     "output_type": "execute_result"
    }
   ],
   "source": [
    "df = pd.read_csv(\"head.csv\", dtype=\"object\")\n",
    "df.shape"
   ]
  },
  {
   "cell_type": "code",
   "execution_count": 3,
   "metadata": {},
   "outputs": [
    {
     "data": {
      "text/html": [
       "<div>\n",
       "<style scoped>\n",
       "    .dataframe tbody tr th:only-of-type {\n",
       "        vertical-align: middle;\n",
       "    }\n",
       "\n",
       "    .dataframe tbody tr th {\n",
       "        vertical-align: top;\n",
       "    }\n",
       "\n",
       "    .dataframe thead th {\n",
       "        text-align: right;\n",
       "    }\n",
       "</style>\n",
       "<table border=\"1\" class=\"dataframe\">\n",
       "  <thead>\n",
       "    <tr style=\"text-align: right;\">\n",
       "      <th></th>\n",
       "      <th>レースID</th>\n",
       "      <th>年月日</th>\n",
       "      <th>レースNo</th>\n",
       "      <th>レース名</th>\n",
       "      <th>クラス</th>\n",
       "      <th>種別</th>\n",
       "      <th>距離</th>\n",
       "      <th>天候</th>\n",
       "      <th>状態</th>\n",
       "      <th>発走</th>\n",
       "      <th>競馬場</th>\n",
       "      <th>条件</th>\n",
       "      <th>Unnamed: 12</th>\n",
       "    </tr>\n",
       "  </thead>\n",
       "  <tbody>\n",
       "    <tr>\n",
       "      <th>0</th>\n",
       "      <td>199901010611</td>\n",
       "      <td>1999年8月22日</td>\n",
       "      <td>11</td>\n",
       "      <td>第35回札幌記念</td>\n",
       "      <td>G2</td>\n",
       "      <td>芝右</td>\n",
       "      <td>2000</td>\n",
       "      <td>曇</td>\n",
       "      <td>良</td>\n",
       "      <td>15:35</td>\n",
       "      <td>1回札幌6日目</td>\n",
       "      <td>4歳以上オープン(混)(特指)(別定)</td>\n",
       "      <td>NaN</td>\n",
       "    </tr>\n",
       "    <tr>\n",
       "      <th>1</th>\n",
       "      <td>199901020311</td>\n",
       "      <td>1999年9月11日</td>\n",
       "      <td>11</td>\n",
       "      <td>第4回エルムステークス</td>\n",
       "      <td>G3</td>\n",
       "      <td>ダ右</td>\n",
       "      <td>1700</td>\n",
       "      <td>曇</td>\n",
       "      <td>稍重</td>\n",
       "      <td>15:35</td>\n",
       "      <td>2回札幌3日目</td>\n",
       "      <td>4歳以上オープン(混)(指)(別定)</td>\n",
       "      <td>NaN</td>\n",
       "    </tr>\n",
       "    <tr>\n",
       "      <th>2</th>\n",
       "      <td>199901020711</td>\n",
       "      <td>1999年9月25日</td>\n",
       "      <td>11</td>\n",
       "      <td>第34回札幌3歳ステークス</td>\n",
       "      <td>G3</td>\n",
       "      <td>芝右</td>\n",
       "      <td>1800</td>\n",
       "      <td>晴</td>\n",
       "      <td>重</td>\n",
       "      <td>15:50</td>\n",
       "      <td>2回札幌7日目</td>\n",
       "      <td>3歳オープン(混)(特指)(馬齢)</td>\n",
       "      <td>NaN</td>\n",
       "    </tr>\n",
       "    <tr>\n",
       "      <th>3</th>\n",
       "      <td>199902010811</td>\n",
       "      <td>1999年7月4日</td>\n",
       "      <td>11</td>\n",
       "      <td>第35回函館記念</td>\n",
       "      <td>G3</td>\n",
       "      <td>芝右</td>\n",
       "      <td>2000</td>\n",
       "      <td>曇</td>\n",
       "      <td>良</td>\n",
       "      <td>15:35</td>\n",
       "      <td>1回函館8日目</td>\n",
       "      <td>4歳以上オープン(混)(特指)(ハンデ)</td>\n",
       "      <td>NaN</td>\n",
       "    </tr>\n",
       "    <tr>\n",
       "      <th>4</th>\n",
       "      <td>199902020411</td>\n",
       "      <td>1999年7月18日</td>\n",
       "      <td>11</td>\n",
       "      <td>第6回函館スプリントS</td>\n",
       "      <td>G3</td>\n",
       "      <td>芝右</td>\n",
       "      <td>1200</td>\n",
       "      <td>晴</td>\n",
       "      <td>良</td>\n",
       "      <td>15:35</td>\n",
       "      <td>2回函館4日目</td>\n",
       "      <td>4歳以上オープン(混)(特指)(別定)</td>\n",
       "      <td>NaN</td>\n",
       "    </tr>\n",
       "  </tbody>\n",
       "</table>\n",
       "</div>"
      ],
      "text/plain": [
       "          レースID         年月日 レースNo           レース名 クラス  種別    距離 天候  状態     発走  \\\n",
       "0  199901010611  1999年8月22日    11       第35回札幌記念  G2  芝右  2000  曇   良  15:35   \n",
       "1  199901020311  1999年9月11日    11    第4回エルムステークス  G3  ダ右  1700  曇  稍重  15:35   \n",
       "2  199901020711  1999年9月25日    11  第34回札幌3歳ステークス  G3  芝右  1800  晴   重  15:50   \n",
       "3  199902010811   1999年7月4日    11       第35回函館記念  G3  芝右  2000  曇   良  15:35   \n",
       "4  199902020411  1999年7月18日    11    第6回函館スプリントS  G3  芝右  1200  晴   良  15:35   \n",
       "\n",
       "       競馬場                    条件 Unnamed: 12  \n",
       "0  1回札幌6日目   4歳以上オープン(混)(特指)(別定)         NaN  \n",
       "1  2回札幌3日目    4歳以上オープン(混)(指)(別定)         NaN  \n",
       "2  2回札幌7日目     3歳オープン(混)(特指)(馬齢)         NaN  \n",
       "3  1回函館8日目  4歳以上オープン(混)(特指)(ハンデ)         NaN  \n",
       "4  2回函館4日目   4歳以上オープン(混)(特指)(別定)         NaN  "
      ]
     },
     "execution_count": 3,
     "metadata": {},
     "output_type": "execute_result"
    }
   ],
   "source": [
    "df.head()"
   ]
  },
  {
   "cell_type": "code",
   "execution_count": 4,
   "metadata": {},
   "outputs": [],
   "source": [
    "# 最後の列を削除\n",
    "df = df.drop(columns=[\"Unnamed: 12\"])"
   ]
  },
  {
   "cell_type": "code",
   "execution_count": 5,
   "metadata": {},
   "outputs": [],
   "source": [
    "# datetime型への変換処理\n",
    "df[\"年月日\"] = pd.to_datetime(df[\"年月日\"], format=\"%Y年%m月%d日\")"
   ]
  },
  {
   "cell_type": "code",
   "execution_count": 6,
   "metadata": {},
   "outputs": [],
   "source": [
    "# レースIDをインデックスに\n",
    "df = df.set_index(\"レースID\")"
   ]
  },
  {
   "cell_type": "code",
   "execution_count": 7,
   "metadata": {},
   "outputs": [
    {
     "data": {
      "text/html": [
       "<div>\n",
       "<style scoped>\n",
       "    .dataframe tbody tr th:only-of-type {\n",
       "        vertical-align: middle;\n",
       "    }\n",
       "\n",
       "    .dataframe tbody tr th {\n",
       "        vertical-align: top;\n",
       "    }\n",
       "\n",
       "    .dataframe thead th {\n",
       "        text-align: right;\n",
       "    }\n",
       "</style>\n",
       "<table border=\"1\" class=\"dataframe\">\n",
       "  <thead>\n",
       "    <tr style=\"text-align: right;\">\n",
       "      <th></th>\n",
       "      <th>年月日</th>\n",
       "      <th>レースNo</th>\n",
       "      <th>レース名</th>\n",
       "      <th>クラス</th>\n",
       "      <th>種別</th>\n",
       "      <th>距離</th>\n",
       "      <th>天候</th>\n",
       "      <th>状態</th>\n",
       "      <th>発走</th>\n",
       "      <th>競馬場</th>\n",
       "      <th>条件</th>\n",
       "    </tr>\n",
       "    <tr>\n",
       "      <th>レースID</th>\n",
       "      <th></th>\n",
       "      <th></th>\n",
       "      <th></th>\n",
       "      <th></th>\n",
       "      <th></th>\n",
       "      <th></th>\n",
       "      <th></th>\n",
       "      <th></th>\n",
       "      <th></th>\n",
       "      <th></th>\n",
       "      <th></th>\n",
       "    </tr>\n",
       "  </thead>\n",
       "  <tbody>\n",
       "    <tr>\n",
       "      <th>199901010611</th>\n",
       "      <td>1999-08-22</td>\n",
       "      <td>11</td>\n",
       "      <td>第35回札幌記念</td>\n",
       "      <td>G2</td>\n",
       "      <td>芝右</td>\n",
       "      <td>2000</td>\n",
       "      <td>曇</td>\n",
       "      <td>良</td>\n",
       "      <td>15:35</td>\n",
       "      <td>1回札幌6日目</td>\n",
       "      <td>4歳以上オープン(混)(特指)(別定)</td>\n",
       "    </tr>\n",
       "    <tr>\n",
       "      <th>199901020311</th>\n",
       "      <td>1999-09-11</td>\n",
       "      <td>11</td>\n",
       "      <td>第4回エルムステークス</td>\n",
       "      <td>G3</td>\n",
       "      <td>ダ右</td>\n",
       "      <td>1700</td>\n",
       "      <td>曇</td>\n",
       "      <td>稍重</td>\n",
       "      <td>15:35</td>\n",
       "      <td>2回札幌3日目</td>\n",
       "      <td>4歳以上オープン(混)(指)(別定)</td>\n",
       "    </tr>\n",
       "    <tr>\n",
       "      <th>199901020711</th>\n",
       "      <td>1999-09-25</td>\n",
       "      <td>11</td>\n",
       "      <td>第34回札幌3歳ステークス</td>\n",
       "      <td>G3</td>\n",
       "      <td>芝右</td>\n",
       "      <td>1800</td>\n",
       "      <td>晴</td>\n",
       "      <td>重</td>\n",
       "      <td>15:50</td>\n",
       "      <td>2回札幌7日目</td>\n",
       "      <td>3歳オープン(混)(特指)(馬齢)</td>\n",
       "    </tr>\n",
       "    <tr>\n",
       "      <th>199902010811</th>\n",
       "      <td>1999-07-04</td>\n",
       "      <td>11</td>\n",
       "      <td>第35回函館記念</td>\n",
       "      <td>G3</td>\n",
       "      <td>芝右</td>\n",
       "      <td>2000</td>\n",
       "      <td>曇</td>\n",
       "      <td>良</td>\n",
       "      <td>15:35</td>\n",
       "      <td>1回函館8日目</td>\n",
       "      <td>4歳以上オープン(混)(特指)(ハンデ)</td>\n",
       "    </tr>\n",
       "    <tr>\n",
       "      <th>199902020411</th>\n",
       "      <td>1999-07-18</td>\n",
       "      <td>11</td>\n",
       "      <td>第6回函館スプリントS</td>\n",
       "      <td>G3</td>\n",
       "      <td>芝右</td>\n",
       "      <td>1200</td>\n",
       "      <td>晴</td>\n",
       "      <td>良</td>\n",
       "      <td>15:35</td>\n",
       "      <td>2回函館4日目</td>\n",
       "      <td>4歳以上オープン(混)(特指)(別定)</td>\n",
       "    </tr>\n",
       "  </tbody>\n",
       "</table>\n",
       "</div>"
      ],
      "text/plain": [
       "                    年月日 レースNo           レース名 クラス  種別    距離 天候  状態     発走  \\\n",
       "レースID                                                                      \n",
       "199901010611 1999-08-22    11       第35回札幌記念  G2  芝右  2000  曇   良  15:35   \n",
       "199901020311 1999-09-11    11    第4回エルムステークス  G3  ダ右  1700  曇  稍重  15:35   \n",
       "199901020711 1999-09-25    11  第34回札幌3歳ステークス  G3  芝右  1800  晴   重  15:50   \n",
       "199902010811 1999-07-04    11       第35回函館記念  G3  芝右  2000  曇   良  15:35   \n",
       "199902020411 1999-07-18    11    第6回函館スプリントS  G3  芝右  1200  晴   良  15:35   \n",
       "\n",
       "                  競馬場                    条件  \n",
       "レースID                                        \n",
       "199901010611  1回札幌6日目   4歳以上オープン(混)(特指)(別定)  \n",
       "199901020311  2回札幌3日目    4歳以上オープン(混)(指)(別定)  \n",
       "199901020711  2回札幌7日目     3歳オープン(混)(特指)(馬齢)  \n",
       "199902010811  1回函館8日目  4歳以上オープン(混)(特指)(ハンデ)  \n",
       "199902020411  2回函館4日目   4歳以上オープン(混)(特指)(別定)  "
      ]
     },
     "execution_count": 7,
     "metadata": {},
     "output_type": "execute_result"
    }
   ],
   "source": [
    "df.head()"
   ]
  },
  {
   "cell_type": "code",
   "execution_count": 8,
   "metadata": {},
   "outputs": [
    {
     "name": "stdout",
     "output_type": "stream",
     "text": [
      "<class 'pandas.core.frame.DataFrame'>\n",
      "Index: 3756 entries, 199901010611 to 202010010212\n",
      "Data columns (total 11 columns):\n",
      " #   Column  Non-Null Count  Dtype         \n",
      "---  ------  --------------  -----         \n",
      " 0   年月日     3756 non-null   datetime64[ns]\n",
      " 1   レースNo   3756 non-null   object        \n",
      " 2   レース名    3756 non-null   object        \n",
      " 3   クラス     2792 non-null   object        \n",
      " 4   種別      3756 non-null   object        \n",
      " 5   距離      3756 non-null   object        \n",
      " 6   天候      3756 non-null   object        \n",
      " 7   状態      3756 non-null   object        \n",
      " 8   発走      3756 non-null   object        \n",
      " 9   競馬場     3756 non-null   object        \n",
      " 10  条件      3756 non-null   object        \n",
      "dtypes: datetime64[ns](1), object(10)\n",
      "memory usage: 352.1+ KB\n"
     ]
    }
   ],
   "source": [
    "df.info()"
   ]
  },
  {
   "cell_type": "code",
   "execution_count": 9,
   "metadata": {},
   "outputs": [
    {
     "data": {
      "text/plain": [
       "年月日        0\n",
       "レースNo      0\n",
       "レース名       0\n",
       "クラス      964\n",
       "種別         0\n",
       "距離         0\n",
       "天候         0\n",
       "状態         0\n",
       "発走         0\n",
       "競馬場        0\n",
       "条件         0\n",
       "dtype: int64"
      ]
     },
     "execution_count": 9,
     "metadata": {},
     "output_type": "execute_result"
    }
   ],
   "source": [
    "# 欠損値\n",
    "df.isnull().sum()"
   ]
  },
  {
   "cell_type": "code",
   "execution_count": 10,
   "metadata": {},
   "outputs": [
    {
     "data": {
      "text/plain": [
       "G3       1386\n",
       "G2        713\n",
       "G1        420\n",
       "J.G3      103\n",
       "J.G2       63\n",
       "J.G1       42\n",
       "L          23\n",
       "秋)(G1      21\n",
       "春)(G1      21\n",
       "Name: クラス, dtype: int64"
      ]
     },
     "execution_count": 10,
     "metadata": {},
     "output_type": "execute_result"
    }
   ],
   "source": [
    "# クラスの値\n",
    "df[\"クラス\"].value_counts()"
   ]
  },
  {
   "cell_type": "code",
   "execution_count": 11,
   "metadata": {},
   "outputs": [],
   "source": [
    "# 欠損値を埋める\n",
    "df[\"クラス\"] = df[\"クラス\"].fillna(\"\")"
   ]
  },
  {
   "cell_type": "code",
   "execution_count": 12,
   "metadata": {},
   "outputs": [],
   "source": [
    "# 文字列に含まれているかどうか\n",
    "def split_class(x):\n",
    "    if \"G1\" in x:\n",
    "        return 1\n",
    "    elif \"G2\" in x:\n",
    "        return 2\n",
    "    elif \"G3\" in x:\n",
    "        return 3\n",
    "    else:\n",
    "        return 0"
   ]
  },
  {
   "cell_type": "code",
   "execution_count": 13,
   "metadata": {},
   "outputs": [],
   "source": [
    "# apply\n",
    "df[\"クラス\"] = df[\"クラス\"].apply(split_class)"
   ]
  },
  {
   "cell_type": "code",
   "execution_count": 14,
   "metadata": {},
   "outputs": [
    {
     "data": {
      "text/plain": [
       "レースID\n",
       "199901010611    2\n",
       "199901020311    3\n",
       "199901020711    3\n",
       "199902010811    3\n",
       "199902020411    3\n",
       "               ..\n",
       "202010010208    0\n",
       "202010010209    0\n",
       "202010010210    0\n",
       "202010010211    0\n",
       "202010010212    0\n",
       "Name: クラス, Length: 3756, dtype: int64"
      ]
     },
     "execution_count": 14,
     "metadata": {},
     "output_type": "execute_result"
    }
   ],
   "source": [
    "df[\"クラス\"]"
   ]
  },
  {
   "cell_type": "code",
   "execution_count": 15,
   "metadata": {},
   "outputs": [
    {
     "name": "stdout",
     "output_type": "stream",
     "text": [
      "<class 'pandas.core.frame.DataFrame'>\n",
      "Index: 3756 entries, 199901010611 to 202010010212\n",
      "Data columns (total 11 columns):\n",
      " #   Column  Non-Null Count  Dtype         \n",
      "---  ------  --------------  -----         \n",
      " 0   年月日     3756 non-null   datetime64[ns]\n",
      " 1   レースNo   3756 non-null   object        \n",
      " 2   レース名    3756 non-null   object        \n",
      " 3   クラス     3756 non-null   int64         \n",
      " 4   種別      3756 non-null   object        \n",
      " 5   距離      3756 non-null   object        \n",
      " 6   天候      3756 non-null   object        \n",
      " 7   状態      3756 non-null   object        \n",
      " 8   発走      3756 non-null   object        \n",
      " 9   競馬場     3756 non-null   object        \n",
      " 10  条件      3756 non-null   object        \n",
      "dtypes: datetime64[ns](1), int64(1), object(9)\n",
      "memory usage: 481.2+ KB\n"
     ]
    }
   ],
   "source": [
    "df.info()"
   ]
  },
  {
   "cell_type": "code",
   "execution_count": 16,
   "metadata": {},
   "outputs": [
    {
     "data": {
      "text/plain": [
       "Index(['年月日', 'レースNo', 'レース名', 'クラス', '種別', '距離', '天候', '状態', '発走', '競馬場',\n",
       "       '条件'],\n",
       "      dtype='object')"
      ]
     },
     "execution_count": 16,
     "metadata": {},
     "output_type": "execute_result"
    }
   ],
   "source": [
    "df.columns"
   ]
  },
  {
   "cell_type": "code",
   "execution_count": 17,
   "metadata": {},
   "outputs": [],
   "source": [
    "# 状態をカテゴリ化\n",
    "codes, uniques = pd.factorize(df['状態'])"
   ]
  },
  {
   "cell_type": "code",
   "execution_count": 18,
   "metadata": {},
   "outputs": [
    {
     "data": {
      "text/plain": [
       "array([0, 1, 2, ..., 2, 2, 2], dtype=int64)"
      ]
     },
     "execution_count": 18,
     "metadata": {},
     "output_type": "execute_result"
    }
   ],
   "source": [
    "codes"
   ]
  },
  {
   "cell_type": "code",
   "execution_count": 19,
   "metadata": {},
   "outputs": [
    {
     "data": {
      "text/plain": [
       "Index(['良', '稍重', '重', '不良'], dtype='object')"
      ]
     },
     "execution_count": 19,
     "metadata": {},
     "output_type": "execute_result"
    }
   ],
   "source": [
    "# これはここでは使わない\n",
    "uniques"
   ]
  },
  {
   "cell_type": "code",
   "execution_count": 20,
   "metadata": {},
   "outputs": [],
   "source": [
    "# 0から始まる数値にする\n",
    "df['状態'] = codes"
   ]
  },
  {
   "cell_type": "code",
   "execution_count": 21,
   "metadata": {},
   "outputs": [
    {
     "data": {
      "text/plain": [
       "dtype('int64')"
      ]
     },
     "execution_count": 21,
     "metadata": {},
     "output_type": "execute_result"
    }
   ],
   "source": [
    "# 型確認\n",
    "df['状態'].dtype"
   ]
  },
  {
   "cell_type": "code",
   "execution_count": 22,
   "metadata": {},
   "outputs": [],
   "source": [
    "# 型変換\n",
    "df['状態'] = df['状態'].astype('category')"
   ]
  },
  {
   "cell_type": "code",
   "execution_count": 23,
   "metadata": {},
   "outputs": [
    {
     "data": {
      "text/plain": [
       "CategoricalDtype(categories=[0, 1, 2, 3], ordered=False)"
      ]
     },
     "execution_count": 23,
     "metadata": {},
     "output_type": "execute_result"
    }
   ],
   "source": [
    "# 型確認\n",
    "df['状態'].dtype"
   ]
  },
  {
   "cell_type": "code",
   "execution_count": 24,
   "metadata": {},
   "outputs": [
    {
     "name": "stdout",
     "output_type": "stream",
     "text": [
      "<class 'pandas.core.frame.DataFrame'>\n",
      "Index: 3756 entries, 199901010611 to 202010010212\n",
      "Data columns (total 11 columns):\n",
      " #   Column  Non-Null Count  Dtype         \n",
      "---  ------  --------------  -----         \n",
      " 0   年月日     3756 non-null   datetime64[ns]\n",
      " 1   レースNo   3756 non-null   object        \n",
      " 2   レース名    3756 non-null   object        \n",
      " 3   クラス     3756 non-null   int64         \n",
      " 4   種別      3756 non-null   object        \n",
      " 5   距離      3756 non-null   object        \n",
      " 6   天候      3756 non-null   object        \n",
      " 7   状態      3756 non-null   category      \n",
      " 8   発走      3756 non-null   object        \n",
      " 9   競馬場     3756 non-null   object        \n",
      " 10  条件      3756 non-null   object        \n",
      "dtypes: category(1), datetime64[ns](1), int64(1), object(8)\n",
      "memory usage: 455.7+ KB\n"
     ]
    }
   ],
   "source": [
    "df.info()"
   ]
  },
  {
   "cell_type": "code",
   "execution_count": 25,
   "metadata": {},
   "outputs": [],
   "source": [
    "# ダミー変数化\n",
    "df = pd.get_dummies(df, columns=['種別', '天候'])"
   ]
  },
  {
   "cell_type": "code",
   "execution_count": 26,
   "metadata": {},
   "outputs": [],
   "source": [
    "# 列削除\n",
    "df.drop([\"レース名\", \"競馬場\", \"条件\"], axis=1, inplace=True)"
   ]
  },
  {
   "cell_type": "code",
   "execution_count": 27,
   "metadata": {},
   "outputs": [],
   "source": [
    "# 型変換\n",
    "df['レースNo'] = df['レースNo'].astype('int')\n",
    "df['距離'] = df['距離'].astype('int')"
   ]
  },
  {
   "cell_type": "code",
   "execution_count": 28,
   "metadata": {},
   "outputs": [
    {
     "name": "stdout",
     "output_type": "stream",
     "text": [
      "<class 'pandas.core.frame.DataFrame'>\n",
      "Index: 3756 entries, 199901010611 to 202010010212\n",
      "Data columns (total 27 columns):\n",
      " #   Column     Non-Null Count  Dtype         \n",
      "---  ------     --------------  -----         \n",
      " 0   年月日        3756 non-null   datetime64[ns]\n",
      " 1   レースNo      3756 non-null   int32         \n",
      " 2   クラス        3756 non-null   int64         \n",
      " 3   距離         3756 non-null   int32         \n",
      " 4   状態         3756 non-null   category      \n",
      " 5   発走         3756 non-null   object        \n",
      " 6   種別_ダ右      3756 non-null   uint8         \n",
      " 7   種別_ダ左      3756 non-null   uint8         \n",
      " 8   種別_芝右      3756 non-null   uint8         \n",
      " 9   種別_芝右 内2周  3756 non-null   uint8         \n",
      " 10  種別_芝右 外    3756 non-null   uint8         \n",
      " 11  種別_芝右 外-内  3756 non-null   uint8         \n",
      " 12  種別_芝左      3756 non-null   uint8         \n",
      " 13  種別_芝左 外    3756 non-null   uint8         \n",
      " 14  種別_芝直線     3756 non-null   uint8         \n",
      " 15  種別_障芝      3756 non-null   uint8         \n",
      " 16  種別_障芝 ダート  3756 non-null   uint8         \n",
      " 17  種別_障芝 内-外  3756 non-null   uint8         \n",
      " 18  種別_障芝 外    3756 non-null   uint8         \n",
      " 19  種別_障芝 外-内  3756 non-null   uint8         \n",
      " 20  種別_障芝 左    3756 non-null   uint8         \n",
      " 21  天候_小雨      3756 non-null   uint8         \n",
      " 22  天候_小雪      3756 non-null   uint8         \n",
      " 23  天候_晴       3756 non-null   uint8         \n",
      " 24  天候_曇       3756 non-null   uint8         \n",
      " 25  天候_雨       3756 non-null   uint8         \n",
      " 26  天候_雪       3756 non-null   uint8         \n",
      "dtypes: category(1), datetime64[ns](1), int32(2), int64(1), object(1), uint8(21)\n",
      "memory usage: 356.7+ KB\n"
     ]
    }
   ],
   "source": [
    "df.info()"
   ]
  },
  {
   "cell_type": "code",
   "execution_count": 29,
   "metadata": {},
   "outputs": [
    {
     "data": {
      "text/html": [
       "<div>\n",
       "<style scoped>\n",
       "    .dataframe tbody tr th:only-of-type {\n",
       "        vertical-align: middle;\n",
       "    }\n",
       "\n",
       "    .dataframe tbody tr th {\n",
       "        vertical-align: top;\n",
       "    }\n",
       "\n",
       "    .dataframe thead th {\n",
       "        text-align: right;\n",
       "    }\n",
       "</style>\n",
       "<table border=\"1\" class=\"dataframe\">\n",
       "  <thead>\n",
       "    <tr style=\"text-align: right;\">\n",
       "      <th></th>\n",
       "      <th>年月日</th>\n",
       "      <th>レースNo</th>\n",
       "      <th>クラス</th>\n",
       "      <th>距離</th>\n",
       "      <th>状態</th>\n",
       "      <th>発走</th>\n",
       "      <th>種別_ダ右</th>\n",
       "      <th>種別_ダ左</th>\n",
       "      <th>種別_芝右</th>\n",
       "      <th>種別_芝右 内2周</th>\n",
       "      <th>...</th>\n",
       "      <th>種別_障芝 内-外</th>\n",
       "      <th>種別_障芝 外</th>\n",
       "      <th>種別_障芝 外-内</th>\n",
       "      <th>種別_障芝 左</th>\n",
       "      <th>天候_小雨</th>\n",
       "      <th>天候_小雪</th>\n",
       "      <th>天候_晴</th>\n",
       "      <th>天候_曇</th>\n",
       "      <th>天候_雨</th>\n",
       "      <th>天候_雪</th>\n",
       "    </tr>\n",
       "    <tr>\n",
       "      <th>レースID</th>\n",
       "      <th></th>\n",
       "      <th></th>\n",
       "      <th></th>\n",
       "      <th></th>\n",
       "      <th></th>\n",
       "      <th></th>\n",
       "      <th></th>\n",
       "      <th></th>\n",
       "      <th></th>\n",
       "      <th></th>\n",
       "      <th></th>\n",
       "      <th></th>\n",
       "      <th></th>\n",
       "      <th></th>\n",
       "      <th></th>\n",
       "      <th></th>\n",
       "      <th></th>\n",
       "      <th></th>\n",
       "      <th></th>\n",
       "      <th></th>\n",
       "      <th></th>\n",
       "    </tr>\n",
       "  </thead>\n",
       "  <tbody>\n",
       "    <tr>\n",
       "      <th>199901010611</th>\n",
       "      <td>1999-08-22</td>\n",
       "      <td>11</td>\n",
       "      <td>2</td>\n",
       "      <td>2000</td>\n",
       "      <td>0</td>\n",
       "      <td>15:35</td>\n",
       "      <td>0</td>\n",
       "      <td>0</td>\n",
       "      <td>1</td>\n",
       "      <td>0</td>\n",
       "      <td>...</td>\n",
       "      <td>0</td>\n",
       "      <td>0</td>\n",
       "      <td>0</td>\n",
       "      <td>0</td>\n",
       "      <td>0</td>\n",
       "      <td>0</td>\n",
       "      <td>0</td>\n",
       "      <td>1</td>\n",
       "      <td>0</td>\n",
       "      <td>0</td>\n",
       "    </tr>\n",
       "    <tr>\n",
       "      <th>199901020311</th>\n",
       "      <td>1999-09-11</td>\n",
       "      <td>11</td>\n",
       "      <td>3</td>\n",
       "      <td>1700</td>\n",
       "      <td>1</td>\n",
       "      <td>15:35</td>\n",
       "      <td>1</td>\n",
       "      <td>0</td>\n",
       "      <td>0</td>\n",
       "      <td>0</td>\n",
       "      <td>...</td>\n",
       "      <td>0</td>\n",
       "      <td>0</td>\n",
       "      <td>0</td>\n",
       "      <td>0</td>\n",
       "      <td>0</td>\n",
       "      <td>0</td>\n",
       "      <td>0</td>\n",
       "      <td>1</td>\n",
       "      <td>0</td>\n",
       "      <td>0</td>\n",
       "    </tr>\n",
       "    <tr>\n",
       "      <th>199901020711</th>\n",
       "      <td>1999-09-25</td>\n",
       "      <td>11</td>\n",
       "      <td>3</td>\n",
       "      <td>1800</td>\n",
       "      <td>2</td>\n",
       "      <td>15:50</td>\n",
       "      <td>0</td>\n",
       "      <td>0</td>\n",
       "      <td>1</td>\n",
       "      <td>0</td>\n",
       "      <td>...</td>\n",
       "      <td>0</td>\n",
       "      <td>0</td>\n",
       "      <td>0</td>\n",
       "      <td>0</td>\n",
       "      <td>0</td>\n",
       "      <td>0</td>\n",
       "      <td>1</td>\n",
       "      <td>0</td>\n",
       "      <td>0</td>\n",
       "      <td>0</td>\n",
       "    </tr>\n",
       "    <tr>\n",
       "      <th>199902010811</th>\n",
       "      <td>1999-07-04</td>\n",
       "      <td>11</td>\n",
       "      <td>3</td>\n",
       "      <td>2000</td>\n",
       "      <td>0</td>\n",
       "      <td>15:35</td>\n",
       "      <td>0</td>\n",
       "      <td>0</td>\n",
       "      <td>1</td>\n",
       "      <td>0</td>\n",
       "      <td>...</td>\n",
       "      <td>0</td>\n",
       "      <td>0</td>\n",
       "      <td>0</td>\n",
       "      <td>0</td>\n",
       "      <td>0</td>\n",
       "      <td>0</td>\n",
       "      <td>0</td>\n",
       "      <td>1</td>\n",
       "      <td>0</td>\n",
       "      <td>0</td>\n",
       "    </tr>\n",
       "    <tr>\n",
       "      <th>199902020411</th>\n",
       "      <td>1999-07-18</td>\n",
       "      <td>11</td>\n",
       "      <td>3</td>\n",
       "      <td>1200</td>\n",
       "      <td>0</td>\n",
       "      <td>15:35</td>\n",
       "      <td>0</td>\n",
       "      <td>0</td>\n",
       "      <td>1</td>\n",
       "      <td>0</td>\n",
       "      <td>...</td>\n",
       "      <td>0</td>\n",
       "      <td>0</td>\n",
       "      <td>0</td>\n",
       "      <td>0</td>\n",
       "      <td>0</td>\n",
       "      <td>0</td>\n",
       "      <td>1</td>\n",
       "      <td>0</td>\n",
       "      <td>0</td>\n",
       "      <td>0</td>\n",
       "    </tr>\n",
       "    <tr>\n",
       "      <th>...</th>\n",
       "      <td>...</td>\n",
       "      <td>...</td>\n",
       "      <td>...</td>\n",
       "      <td>...</td>\n",
       "      <td>...</td>\n",
       "      <td>...</td>\n",
       "      <td>...</td>\n",
       "      <td>...</td>\n",
       "      <td>...</td>\n",
       "      <td>...</td>\n",
       "      <td>...</td>\n",
       "      <td>...</td>\n",
       "      <td>...</td>\n",
       "      <td>...</td>\n",
       "      <td>...</td>\n",
       "      <td>...</td>\n",
       "      <td>...</td>\n",
       "      <td>...</td>\n",
       "      <td>...</td>\n",
       "      <td>...</td>\n",
       "      <td>...</td>\n",
       "    </tr>\n",
       "    <tr>\n",
       "      <th>202010010208</th>\n",
       "      <td>2020-01-19</td>\n",
       "      <td>8</td>\n",
       "      <td>0</td>\n",
       "      <td>1200</td>\n",
       "      <td>2</td>\n",
       "      <td>13:40</td>\n",
       "      <td>0</td>\n",
       "      <td>0</td>\n",
       "      <td>1</td>\n",
       "      <td>0</td>\n",
       "      <td>...</td>\n",
       "      <td>0</td>\n",
       "      <td>0</td>\n",
       "      <td>0</td>\n",
       "      <td>0</td>\n",
       "      <td>0</td>\n",
       "      <td>0</td>\n",
       "      <td>0</td>\n",
       "      <td>1</td>\n",
       "      <td>0</td>\n",
       "      <td>0</td>\n",
       "    </tr>\n",
       "    <tr>\n",
       "      <th>202010010209</th>\n",
       "      <td>2020-01-19</td>\n",
       "      <td>9</td>\n",
       "      <td>0</td>\n",
       "      <td>2000</td>\n",
       "      <td>2</td>\n",
       "      <td>14:15</td>\n",
       "      <td>0</td>\n",
       "      <td>0</td>\n",
       "      <td>1</td>\n",
       "      <td>0</td>\n",
       "      <td>...</td>\n",
       "      <td>0</td>\n",
       "      <td>0</td>\n",
       "      <td>0</td>\n",
       "      <td>0</td>\n",
       "      <td>0</td>\n",
       "      <td>0</td>\n",
       "      <td>0</td>\n",
       "      <td>1</td>\n",
       "      <td>0</td>\n",
       "      <td>0</td>\n",
       "    </tr>\n",
       "    <tr>\n",
       "      <th>202010010210</th>\n",
       "      <td>2020-01-19</td>\n",
       "      <td>10</td>\n",
       "      <td>0</td>\n",
       "      <td>1700</td>\n",
       "      <td>2</td>\n",
       "      <td>14:50</td>\n",
       "      <td>1</td>\n",
       "      <td>0</td>\n",
       "      <td>0</td>\n",
       "      <td>0</td>\n",
       "      <td>...</td>\n",
       "      <td>0</td>\n",
       "      <td>0</td>\n",
       "      <td>0</td>\n",
       "      <td>0</td>\n",
       "      <td>0</td>\n",
       "      <td>0</td>\n",
       "      <td>0</td>\n",
       "      <td>1</td>\n",
       "      <td>0</td>\n",
       "      <td>0</td>\n",
       "    </tr>\n",
       "    <tr>\n",
       "      <th>202010010211</th>\n",
       "      <td>2020-01-19</td>\n",
       "      <td>11</td>\n",
       "      <td>0</td>\n",
       "      <td>1200</td>\n",
       "      <td>2</td>\n",
       "      <td>15:25</td>\n",
       "      <td>0</td>\n",
       "      <td>0</td>\n",
       "      <td>1</td>\n",
       "      <td>0</td>\n",
       "      <td>...</td>\n",
       "      <td>0</td>\n",
       "      <td>0</td>\n",
       "      <td>0</td>\n",
       "      <td>0</td>\n",
       "      <td>0</td>\n",
       "      <td>0</td>\n",
       "      <td>0</td>\n",
       "      <td>1</td>\n",
       "      <td>0</td>\n",
       "      <td>0</td>\n",
       "    </tr>\n",
       "    <tr>\n",
       "      <th>202010010212</th>\n",
       "      <td>2020-01-19</td>\n",
       "      <td>12</td>\n",
       "      <td>0</td>\n",
       "      <td>2600</td>\n",
       "      <td>2</td>\n",
       "      <td>16:01</td>\n",
       "      <td>0</td>\n",
       "      <td>0</td>\n",
       "      <td>1</td>\n",
       "      <td>0</td>\n",
       "      <td>...</td>\n",
       "      <td>0</td>\n",
       "      <td>0</td>\n",
       "      <td>0</td>\n",
       "      <td>0</td>\n",
       "      <td>0</td>\n",
       "      <td>0</td>\n",
       "      <td>0</td>\n",
       "      <td>1</td>\n",
       "      <td>0</td>\n",
       "      <td>0</td>\n",
       "    </tr>\n",
       "  </tbody>\n",
       "</table>\n",
       "<p>3756 rows × 27 columns</p>\n",
       "</div>"
      ],
      "text/plain": [
       "                    年月日  レースNo  クラス    距離 状態     発走  種別_ダ右  種別_ダ左  種別_芝右  \\\n",
       "レースID                                                                      \n",
       "199901010611 1999-08-22     11    2  2000  0  15:35      0      0      1   \n",
       "199901020311 1999-09-11     11    3  1700  1  15:35      1      0      0   \n",
       "199901020711 1999-09-25     11    3  1800  2  15:50      0      0      1   \n",
       "199902010811 1999-07-04     11    3  2000  0  15:35      0      0      1   \n",
       "199902020411 1999-07-18     11    3  1200  0  15:35      0      0      1   \n",
       "...                 ...    ...  ...   ... ..    ...    ...    ...    ...   \n",
       "202010010208 2020-01-19      8    0  1200  2  13:40      0      0      1   \n",
       "202010010209 2020-01-19      9    0  2000  2  14:15      0      0      1   \n",
       "202010010210 2020-01-19     10    0  1700  2  14:50      1      0      0   \n",
       "202010010211 2020-01-19     11    0  1200  2  15:25      0      0      1   \n",
       "202010010212 2020-01-19     12    0  2600  2  16:01      0      0      1   \n",
       "\n",
       "              種別_芝右 内2周  ...  種別_障芝 内-外  種別_障芝 外  種別_障芝 外-内  種別_障芝 左  天候_小雨  \\\n",
       "レースID                    ...                                                  \n",
       "199901010611          0  ...          0        0          0        0      0   \n",
       "199901020311          0  ...          0        0          0        0      0   \n",
       "199901020711          0  ...          0        0          0        0      0   \n",
       "199902010811          0  ...          0        0          0        0      0   \n",
       "199902020411          0  ...          0        0          0        0      0   \n",
       "...                 ...  ...        ...      ...        ...      ...    ...   \n",
       "202010010208          0  ...          0        0          0        0      0   \n",
       "202010010209          0  ...          0        0          0        0      0   \n",
       "202010010210          0  ...          0        0          0        0      0   \n",
       "202010010211          0  ...          0        0          0        0      0   \n",
       "202010010212          0  ...          0        0          0        0      0   \n",
       "\n",
       "              天候_小雪  天候_晴  天候_曇  天候_雨  天候_雪  \n",
       "レースID                                        \n",
       "199901010611      0     0     1     0     0  \n",
       "199901020311      0     0     1     0     0  \n",
       "199901020711      0     1     0     0     0  \n",
       "199902010811      0     0     1     0     0  \n",
       "199902020411      0     1     0     0     0  \n",
       "...             ...   ...   ...   ...   ...  \n",
       "202010010208      0     0     1     0     0  \n",
       "202010010209      0     0     1     0     0  \n",
       "202010010210      0     0     1     0     0  \n",
       "202010010211      0     0     1     0     0  \n",
       "202010010212      0     0     1     0     0  \n",
       "\n",
       "[3756 rows x 27 columns]"
      ]
     },
     "execution_count": 29,
     "metadata": {},
     "output_type": "execute_result"
    }
   ],
   "source": [
    "df"
   ]
  },
  {
   "cell_type": "code",
   "execution_count": null,
   "metadata": {},
   "outputs": [],
   "source": []
  }
 ],
 "metadata": {
  "kernelspec": {
   "display_name": "Python 3",
   "language": "python",
   "name": "python3"
  },
  "language_info": {
   "codemirror_mode": {
    "name": "ipython",
    "version": 3
   },
   "file_extension": ".py",
   "mimetype": "text/x-python",
   "name": "python",
   "nbconvert_exporter": "python",
   "pygments_lexer": "ipython3",
   "version": "3.8.5"
  }
 },
 "nbformat": 4,
 "nbformat_minor": 4
}
