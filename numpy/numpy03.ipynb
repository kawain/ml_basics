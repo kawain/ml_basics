{
 "cells": [
  {
   "cell_type": "code",
   "execution_count": 1,
   "metadata": {},
   "outputs": [],
   "source": [
    "import numpy as np\n",
    "\n",
    "from sklearn.datasets import load_breast_cancer"
   ]
  },
  {
   "cell_type": "code",
   "execution_count": 2,
   "metadata": {},
   "outputs": [
    {
     "name": "stdout",
     "output_type": "stream",
     "text": [
      "(569, 30)\n",
      "[[1.799e+01 1.038e+01 1.228e+02 ... 2.654e-01 4.601e-01 1.189e-01]\n",
      " [2.057e+01 1.777e+01 1.329e+02 ... 1.860e-01 2.750e-01 8.902e-02]\n",
      " [1.969e+01 2.125e+01 1.300e+02 ... 2.430e-01 3.613e-01 8.758e-02]\n",
      " ...\n",
      " [1.660e+01 2.808e+01 1.083e+02 ... 1.418e-01 2.218e-01 7.820e-02]\n",
      " [2.060e+01 2.933e+01 1.401e+02 ... 2.650e-01 4.087e-01 1.240e-01]\n",
      " [7.760e+00 2.454e+01 4.792e+01 ... 0.000e+00 2.871e-01 7.039e-02]]\n",
      "----------------------------------------------------------------------------------------------------\n",
      "(569,)\n",
      "[0 0 0 0 0 0 0 0 0 0 0 0 0 0 0 0 0 0 0 1 1 1 0 0 0 0 0 0 0 0 0 0 0 0 0 0 0\n",
      " 1 0 0 0 0 0 0 0 0 1 0 1 1 1 1 1 0 0 1 0 0 1 1 1 1 0 1 0 0 1 1 1 1 0 1 0 0\n",
      " 1 0 1 0 0 1 1 1 0 0 1 0 0 0 1 1 1 0 1 1 0 0 1 1 1 0 0 1 1 1 1 0 1 1 0 1 1\n",
      " 1 1 1 1 1 1 0 0 0 1 0 0 1 1 1 0 0 1 0 1 0 0 1 0 0 1 1 0 1 1 0 1 1 1 1 0 1\n",
      " 1 1 1 1 1 1 1 1 0 1 1 1 1 0 0 1 0 1 1 0 0 1 1 0 0 1 1 1 1 0 1 1 0 0 0 1 0\n",
      " 1 0 1 1 1 0 1 1 0 0 1 0 0 0 0 1 0 0 0 1 0 1 0 1 1 0 1 0 0 0 0 1 1 0 0 1 1\n",
      " 1 0 1 1 1 1 1 0 0 1 1 0 1 1 0 0 1 0 1 1 1 1 0 1 1 1 1 1 0 1 0 0 0 0 0 0 0\n",
      " 0 0 0 0 0 0 0 1 1 1 1 1 1 0 1 0 1 1 0 1 1 0 1 0 0 1 1 1 1 1 1 1 1 1 1 1 1\n",
      " 1 0 1 1 0 1 0 1 1 1 1 1 1 1 1 1 1 1 1 1 1 0 1 1 1 0 1 0 1 1 1 1 0 0 0 1 1\n",
      " 1 1 0 1 0 1 0 1 1 1 0 1 1 1 1 1 1 1 0 0 0 1 1 1 1 1 1 1 1 1 1 1 0 0 1 0 0\n",
      " 0 1 0 0 1 1 1 1 1 0 1 1 1 1 1 0 1 1 1 0 1 1 0 0 1 1 1 1 1 1 0 1 1 1 1 1 1\n",
      " 1 0 1 1 1 1 1 0 1 1 0 1 1 1 1 1 1 1 1 1 1 1 1 0 1 0 0 1 0 1 1 1 1 1 0 1 1\n",
      " 0 1 0 1 1 0 1 0 1 1 1 1 1 1 1 1 0 0 1 1 1 1 1 1 0 1 1 1 1 1 1 1 1 1 1 0 1\n",
      " 1 1 1 1 1 1 0 1 0 1 1 0 1 1 1 1 1 0 0 1 0 1 0 1 1 1 1 1 0 1 1 0 1 0 1 0 0\n",
      " 1 1 1 0 1 1 1 1 1 1 1 1 1 1 1 0 1 0 0 1 1 1 1 1 1 1 1 1 1 1 1 1 1 1 1 1 1\n",
      " 1 1 1 1 1 1 1 0 0 0 0 0 0 1]\n",
      "----------------------------------------------------------------------------------------------------\n"
     ]
    }
   ],
   "source": [
    "cancer = load_breast_cancer()\n",
    "\n",
    "print(cancer.data.shape)\n",
    "print(cancer.data)\n",
    "print(\"-\"*100)\n",
    "print(cancer.target.shape)\n",
    "print(cancer.target)\n",
    "print(\"-\"*100)"
   ]
  },
  {
   "cell_type": "code",
   "execution_count": 3,
   "metadata": {},
   "outputs": [
    {
     "data": {
      "text/plain": [
       "array([13.54 , 13.08 ,  9.504, 13.03 ,  8.196, 12.05 , 13.49 , 11.76 ,\n",
       "       13.64 , 11.94 , 11.52 , 13.05 ,  8.618, 10.17 ,  8.598,  9.173,\n",
       "        9.465, 11.31 ,  9.029, 12.78 ,  8.888, 12.31 , 13.53 , 12.86 ,\n",
       "       11.45 , 13.34 , 12.   , 12.36 , 14.64 , 14.62 , 13.27 , 13.45 ,\n",
       "       12.18 ,  9.787, 11.6  ,  6.981, 12.18 ,  9.876, 10.49 , 11.64 ,\n",
       "       12.36 , 11.34 ,  9.777, 12.63 , 14.26 , 10.51 ,  8.726, 11.93 ,\n",
       "        8.95 , 11.41 , 14.5  , 13.37 , 13.85 , 15.1  , 12.19 , 15.71 ,\n",
       "       11.71 , 11.43 , 11.28 ,  9.738, 11.43 , 12.9  , 10.75 , 11.9  ,\n",
       "       14.95 , 14.44 , 13.74 , 13.   ,  8.219,  9.731, 11.15 , 13.15 ,\n",
       "       12.25 , 16.84 , 12.06 , 10.9  , 11.75 , 12.34 , 14.97 , 10.8  ,\n",
       "       14.97 , 12.32 , 11.08 , 10.66 ,  8.671,  9.904, 13.01 , 12.81 ,\n",
       "       11.41 , 10.08 , 11.71 , 11.81 , 12.3  , 12.77 ,  9.72 , 12.91 ,\n",
       "       12.23 , 12.47 ,  9.876, 13.11 , 15.27 , 11.84 , 11.89 , 10.2  ,\n",
       "       13.65 , 13.56 , 10.18 , 13.27 , 14.34 , 10.44 , 15.   , 12.62 ,\n",
       "       11.32 , 11.22 ,  9.567, 14.03 , 14.22 , 13.64 , 12.42 , 11.3  ,\n",
       "       13.75 , 10.48 , 13.2  , 12.89 , 10.65 , 11.52 , 11.5  , 10.6  ,\n",
       "       13.59 , 12.87 , 10.71 , 14.29 , 11.29 ,  9.742, 11.89 , 11.33 ,\n",
       "       13.59 , 13.85 , 11.74 , 12.89 , 12.58 , 11.94 , 12.89 , 11.26 ,\n",
       "       11.37 , 14.41 , 14.96 , 12.95 , 11.85 , 12.72 , 13.77 , 10.91 ,\n",
       "       14.26 , 10.51 , 12.46 , 10.49 , 11.46 , 11.6  , 13.2  ,  9.   ,\n",
       "       13.5  , 13.05 , 11.7  , 14.61 , 12.76 , 11.54 ,  8.597, 12.49 ,\n",
       "       12.18 ,  9.042, 12.43 , 10.25 , 12.86 , 12.2  , 12.67 , 14.11 ,\n",
       "       12.03 , 12.98 , 11.22 , 11.25 , 12.3  , 12.99 , 10.05 , 14.42 ,\n",
       "        9.606, 11.06 , 11.71 , 10.26 , 12.06 , 14.76 , 11.47 , 11.95 ,\n",
       "       11.66 , 11.14 , 12.56 , 13.05 , 13.87 ,  8.878,  9.436, 12.54 ,\n",
       "       13.3  , 12.76 , 16.5  , 13.4  , 12.21 , 15.19 , 13.69 , 16.17 ,\n",
       "       10.57 , 13.46 , 13.66 , 11.27 , 11.04 , 12.05 , 12.39 , 13.28 ,\n",
       "       12.21 , 13.88 , 11.27 , 10.26 ,  8.734, 12.1  , 14.06 , 13.51 ,\n",
       "       12.8  , 11.06 , 11.8  , 11.93 , 12.96 , 12.94 , 12.34 , 10.94 ,\n",
       "       16.14 , 12.85 , 12.27 , 11.36 , 11.04 ,  9.397, 14.99 , 11.89 ,\n",
       "        9.405, 12.7  , 11.16 , 11.57 , 14.69 , 11.61 , 13.66 ,  9.742,\n",
       "       10.03 , 10.48 , 10.8  , 11.13 , 12.72 , 12.4  , 14.86 , 12.87 ,\n",
       "       14.04 , 13.85 , 14.02 , 10.97 , 13.78 , 10.57 , 11.99 , 14.8  ,\n",
       "       14.53 , 11.87 , 12.   , 14.53 , 12.62 , 13.38 , 11.63 , 13.21 ,\n",
       "       13.   ,  9.755, 14.4  , 11.6  , 13.17 , 13.24 , 13.14 ,  9.668,\n",
       "       11.62 ,  9.667, 12.04 , 14.92 , 12.27 , 10.88 , 12.83 , 14.2  ,\n",
       "       13.9  , 11.49 , 12.16 , 13.9  , 13.47 , 13.7  , 15.73 , 12.45 ,\n",
       "       14.64 , 11.68 , 12.25 , 17.85 , 12.46 , 13.16 , 14.87 , 12.65 ,\n",
       "       12.47 , 15.04 , 12.54 ,  9.268,  9.676, 12.22 , 11.06 , 16.3  ,\n",
       "       11.74 , 14.81 , 14.58 , 11.34 , 12.88 , 12.75 ,  9.295, 11.26 ,\n",
       "       13.71 ,  9.847,  8.571, 13.46 , 12.34 , 13.94 , 12.07 , 11.75 ,\n",
       "       11.67 , 13.68 , 10.96 , 11.69 ,  7.729,  7.691, 11.54 , 14.47 ,\n",
       "       14.74 , 13.21 , 13.87 , 13.62 , 10.32 , 10.26 ,  9.683, 10.82 ,\n",
       "       10.86 , 11.13 , 12.77 ,  9.333, 12.88 , 10.29 , 10.16 ,  9.423,\n",
       "       14.59 , 11.51 , 14.05 , 11.2  ,  7.76 ])"
      ]
     },
     "execution_count": 3,
     "metadata": {},
     "output_type": "execute_result"
    }
   ],
   "source": [
    "cancer.data[:, 0][cancer.target == 1]"
   ]
  },
  {
   "cell_type": "code",
   "execution_count": 4,
   "metadata": {},
   "outputs": [
    {
     "data": {
      "text/plain": [
       "357"
      ]
     },
     "execution_count": 4,
     "metadata": {},
     "output_type": "execute_result"
    }
   ],
   "source": [
    "len(cancer.target[cancer.target == 1])"
   ]
  },
  {
   "cell_type": "code",
   "execution_count": 5,
   "metadata": {},
   "outputs": [
    {
     "data": {
      "text/plain": [
       "212"
      ]
     },
     "execution_count": 5,
     "metadata": {},
     "output_type": "execute_result"
    }
   ],
   "source": [
    "len(cancer.target[cancer.target == 0])"
   ]
  },
  {
   "cell_type": "code",
   "execution_count": 6,
   "metadata": {},
   "outputs": [
    {
     "data": {
      "text/plain": [
       "357"
      ]
     },
     "execution_count": 6,
     "metadata": {},
     "output_type": "execute_result"
    }
   ],
   "source": [
    "len(cancer.data[:, 0][cancer.target == 1])"
   ]
  },
  {
   "cell_type": "code",
   "execution_count": 7,
   "metadata": {},
   "outputs": [],
   "source": [
    "a = np.array([1,2,3])\n",
    "b = np.array([4,5,6])"
   ]
  },
  {
   "cell_type": "code",
   "execution_count": 8,
   "metadata": {},
   "outputs": [
    {
     "data": {
      "text/plain": [
       "array([2])"
      ]
     },
     "execution_count": 8,
     "metadata": {},
     "output_type": "execute_result"
    }
   ],
   "source": [
    "a[:][b==5]"
   ]
  },
  {
   "cell_type": "code",
   "execution_count": 9,
   "metadata": {},
   "outputs": [
    {
     "name": "stdout",
     "output_type": "stream",
     "text": [
      "[[1 2 3]\n",
      " [4 5 6]]\n",
      "(2, 3)\n",
      "2\n",
      "6\n",
      "[[1 2]\n",
      " [3 4]\n",
      " [5 6]]\n",
      "[[1 2 3]\n",
      " [4 5 6]]\n",
      "[1 2 3 4 5 6]\n"
     ]
    }
   ],
   "source": [
    "array = np.array([[1, 2, 3],[4, 5, 6]])  # 配列作成\n",
    "print(array)\n",
    "print(array.shape)  # 行列数\n",
    "print(array.ndim)  # 次元数\n",
    "print(array.size)  # 要素数\n",
    "print(array.reshape(3, 2))  # ３行２列に\n",
    "print(array.reshape(-1, 3))  # 3列のみ指定し、行は自動(-1)で\n",
    "print(array.flatten())  # １次元に"
   ]
  },
  {
   "cell_type": "code",
   "execution_count": 10,
   "metadata": {},
   "outputs": [
    {
     "name": "stdout",
     "output_type": "stream",
     "text": [
      "[0 1 2 3 4 5 6 7 8 9]\n",
      "[1 2 3 4 5 6 7 8 9]\n",
      "[1 3 5 7 9]\n"
     ]
    }
   ],
   "source": [
    "print(np.arange(10))\n",
    "print(np.arange(1, 10))\n",
    "print(np.arange(1, 10, 2))"
   ]
  },
  {
   "cell_type": "code",
   "execution_count": 11,
   "metadata": {},
   "outputs": [
    {
     "name": "stdout",
     "output_type": "stream",
     "text": [
      "[0. 0. 0. 0. 0. 0.]\n",
      "[[0. 0. 0.]\n",
      " [0. 0. 0.]]\n"
     ]
    }
   ],
   "source": [
    "print(np.zeros(6))\n",
    "print(np.zeros((2, 3)))"
   ]
  },
  {
   "cell_type": "code",
   "execution_count": 12,
   "metadata": {},
   "outputs": [
    {
     "name": "stdout",
     "output_type": "stream",
     "text": [
      "[5 7 9]\n",
      "[1 2 3 4 5 6]\n"
     ]
    }
   ],
   "source": [
    "array_1 = np.array([1, 2, 3])\n",
    "array_2 = np.array([4, 5, 6])\n",
    "print(array_1 + array_2)  # 足し算では各要素が足されるだけ\n",
    "print(np.append(array_1, array_2))  # 追加はnp.append関数を使う"
   ]
  },
  {
   "cell_type": "code",
   "execution_count": 13,
   "metadata": {},
   "outputs": [
    {
     "name": "stdout",
     "output_type": "stream",
     "text": [
      "[[0 1 2]\n",
      " [3 4 5]\n",
      " [6 7 8]]\n",
      "[0 1 2]\n",
      "1\n",
      "1\n",
      "[1 4 7]\n",
      "[6 7 8]\n"
     ]
    }
   ],
   "source": [
    "array = np.arange(9).reshape(3, 3)\n",
    "print(array)\n",
    "print(array[0])  # 0行目\n",
    "print(array[0][1])  # 0行1列目\n",
    "print(array[0, 1])  # 0行１列目\n",
    "print(array[:, 1])  # 全行1列目\n",
    "print(array[-1, :]) #　最後の行全列"
   ]
  },
  {
   "cell_type": "code",
   "execution_count": 14,
   "metadata": {},
   "outputs": [
    {
     "name": "stdout",
     "output_type": "stream",
     "text": [
      "[[0 1 2]\n",
      " [3 4 5]\n",
      " [6 7 8]]\n",
      "[0 1 2]\n",
      "[3 4 5]\n",
      "[6 7 8]\n",
      "0\n",
      "1\n",
      "2\n",
      "3\n",
      "4\n",
      "5\n",
      "6\n",
      "7\n",
      "8\n"
     ]
    }
   ],
   "source": [
    "array = np.arange(9).reshape(3, 3)\n",
    "print(array)\n",
    "for i in array:  # 行の抽出\n",
    "    print(i)\n",
    "for i in array.flatten():  # 要素１つづつの抽出\n",
    "    print(i)"
   ]
  },
  {
   "cell_type": "code",
   "execution_count": 15,
   "metadata": {},
   "outputs": [
    {
     "data": {
      "text/plain": [
       "array([[ 0, 10, 20],\n",
       "       [30, 40, 50],\n",
       "       [60, 70, 80]])"
      ]
     },
     "execution_count": 15,
     "metadata": {},
     "output_type": "execute_result"
    }
   ],
   "source": [
    "np.arange(0, 90, 10).reshape(3, 3)"
   ]
  },
  {
   "cell_type": "code",
   "execution_count": 16,
   "metadata": {},
   "outputs": [
    {
     "name": "stdout",
     "output_type": "stream",
     "text": [
      "[[0 1 2]\n",
      " [3 4 5]]\n",
      "15\n",
      "[3 5 7]\n",
      "[ 3 12]\n"
     ]
    }
   ],
   "source": [
    "array = np.array([[0, 1, 2], [3, 4, 5]])\n",
    "print(array)\n",
    "print(np.sum(array))\n",
    "print(np.sum(array, axis = 0))\n",
    "print(np.sum(array, axis = 1))"
   ]
  },
  {
   "cell_type": "code",
   "execution_count": 17,
   "metadata": {},
   "outputs": [
    {
     "name": "stdout",
     "output_type": "stream",
     "text": [
      "[False  True False  True False]\n",
      "[2 4]\n"
     ]
    }
   ],
   "source": [
    "x = np.array([1, 2, 3, 4, 5])\n",
    "y = np.array([0, 1, 0, 1, 0])\n",
    "\n",
    "print(y == 1)\n",
    "\n",
    "print(x[y == 1])"
   ]
  },
  {
   "cell_type": "code",
   "execution_count": null,
   "metadata": {},
   "outputs": [],
   "source": []
  }
 ],
 "metadata": {
  "kernelspec": {
   "display_name": "Python 3",
   "language": "python",
   "name": "python3"
  },
  "language_info": {
   "codemirror_mode": {
    "name": "ipython",
    "version": 3
   },
   "file_extension": ".py",
   "mimetype": "text/x-python",
   "name": "python",
   "nbconvert_exporter": "python",
   "pygments_lexer": "ipython3",
   "version": "3.8.5"
  }
 },
 "nbformat": 4,
 "nbformat_minor": 4
}
